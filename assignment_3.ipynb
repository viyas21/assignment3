{
  "nbformat": 4,
  "nbformat_minor": 0,
  "metadata": {
    "colab": {
      "provenance": []
    },
    "kernelspec": {
      "name": "python3",
      "display_name": "Python 3"
    },
    "language_info": {
      "name": "python"
    }
  },
  "cells": [
    {
      "cell_type": "markdown",
      "source": [
        "# **Write a Python function to sum all the numbers in a list.**"
      ],
      "metadata": {
        "id": "rW-1fVq904SY"
      }
    },
    {
      "cell_type": "code",
      "execution_count": null,
      "metadata": {
        "colab": {
          "base_uri": "https://localhost:8080/"
        },
        "id": "mXSQQg8v0WNY",
        "outputId": "62f9f31a-c2a8-45ac-bd39-ed0e231a2876"
      },
      "outputs": [
        {
          "output_type": "stream",
          "name": "stdout",
          "text": [
            "20\n"
          ]
        }
      ],
      "source": [
        "def sum_numbers(numbers):\n",
        "    total = 0\n",
        "    for num in numbers:\n",
        "        total += num\n",
        "    return total\n",
        "number_list = (8, 2, 3, 0, 7)\n",
        "result = sum_numbers(number_list)\n",
        "print(result)\n"
      ]
    },
    {
      "cell_type": "markdown",
      "source": [
        "# **Write a Python program to reverse a string.**"
      ],
      "metadata": {
        "id": "-JVgweFj1GvG"
      }
    },
    {
      "cell_type": "code",
      "source": [
        "def reverse_string(input_string):\n",
        "    reversed_string = input_string[::-1]\n",
        "    return reversed_string\n",
        "string = \"1234abcd\"\n",
        "reversed_string = reverse_string(string)\n",
        "print(reversed_string)\n"
      ],
      "metadata": {
        "colab": {
          "base_uri": "https://localhost:8080/"
        },
        "id": "qoIOOOVJ0lWa",
        "outputId": "c8fcb925-2e10-4c80-eec7-b1abaca11e6d"
      },
      "execution_count": null,
      "outputs": [
        {
          "output_type": "stream",
          "name": "stdout",
          "text": [
            "dcba4321\n"
          ]
        }
      ]
    },
    {
      "cell_type": "markdown",
      "source": [
        "# **Write a Python function that accepts a string and calculate the number of upper case letters and lower case letters.**\n"
      ],
      "metadata": {
        "id": "YJ3XBV481Zlc"
      }
    },
    {
      "cell_type": "code",
      "source": [
        "def count_upper_lower(string):\n",
        "    upper_count = 0\n",
        "    lower_count = 0\n",
        "\n",
        "    for char in string:\n",
        "        if char.isupper():\n",
        "            upper_count += 1\n",
        "        elif char.islower():\n",
        "            lower_count += 1\n",
        "\n",
        "    return upper_count, lower_count\n",
        "input_string = 'The quick Brow Fox'\n",
        "upper, lower = count_upper_lower(input_string)\n",
        "print(\"Number of uppercase letters:\", upper)\n",
        "print(\"Number of lowercase letters:\", lower)\n"
      ],
      "metadata": {
        "colab": {
          "base_uri": "https://localhost:8080/"
        },
        "id": "zwy1gWLo1QFD",
        "outputId": "59901d91-8d2f-40d8-fc75-fa62c46ddca9"
      },
      "execution_count": null,
      "outputs": [
        {
          "output_type": "stream",
          "name": "stdout",
          "text": [
            "Number of uppercase letters: 3\n",
            "Number of lowercase letters: 12\n"
          ]
        }
      ]
    }
  ]
}